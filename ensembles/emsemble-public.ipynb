{
 "cells": [
  {
   "cell_type": "code",
   "execution_count": 1,
   "metadata": {
    "ExecuteTime": {
     "end_time": "2020-08-17T23:19:22.260161Z",
     "start_time": "2020-08-17T23:19:21.832048Z"
    }
   },
   "outputs": [],
   "source": [
    "import numpy as np\n",
    "import pandas as pd\n",
    "from matplotlib import pyplot as plt\n",
    "from sklearn.model_selection import GroupKFold\n",
    "from sklearn.metrics import roc_auc_score\n",
    "import warnings\n",
    "warnings.filterwarnings(\"ignore\")\n",
    "\n",
    "sub_pub = pd.read_csv(\"../input/sample_submission.csv\")"
   ]
  },
  {
   "cell_type": "code",
   "execution_count": 2,
   "metadata": {
    "ExecuteTime": {
     "end_time": "2020-08-17T23:19:22.263310Z",
     "start_time": "2020-08-17T23:19:22.261321Z"
    }
   },
   "outputs": [],
   "source": [
    "pub_cols = [f\"pub_{col}\"for col in range(1, 11)]"
   ]
  },
  {
   "cell_type": "code",
   "execution_count": 3,
   "metadata": {
    "ExecuteTime": {
     "end_time": "2020-08-17T23:19:22.343494Z",
     "start_time": "2020-08-17T23:19:22.264226Z"
    }
   },
   "outputs": [
    {
     "name": "stdout",
     "output_type": "stream",
     "text": [
      "(10982, 15)\n"
     ]
    },
    {
     "data": {
      "text/html": [
       "<div>\n",
       "<style scoped>\n",
       "    .dataframe tbody tr th:only-of-type {\n",
       "        vertical-align: middle;\n",
       "    }\n",
       "\n",
       "    .dataframe tbody tr th {\n",
       "        vertical-align: top;\n",
       "    }\n",
       "\n",
       "    .dataframe thead th {\n",
       "        text-align: right;\n",
       "    }\n",
       "</style>\n",
       "<table border=\"1\" class=\"dataframe\">\n",
       "  <thead>\n",
       "    <tr style=\"text-align: right;\">\n",
       "      <th></th>\n",
       "      <th>image_name</th>\n",
       "      <th>patient_id</th>\n",
       "      <th>sex</th>\n",
       "      <th>age_approx</th>\n",
       "      <th>anatom_site_general_challenge</th>\n",
       "      <th>pub_1</th>\n",
       "      <th>pub_2</th>\n",
       "      <th>pub_3</th>\n",
       "      <th>pub_4</th>\n",
       "      <th>pub_5</th>\n",
       "      <th>pub_6</th>\n",
       "      <th>pub_7</th>\n",
       "      <th>pub_8</th>\n",
       "      <th>pub_9</th>\n",
       "      <th>pub_10</th>\n",
       "    </tr>\n",
       "  </thead>\n",
       "  <tbody>\n",
       "    <tr>\n",
       "      <th>0</th>\n",
       "      <td>ISIC_0052060</td>\n",
       "      <td>IP_3579794</td>\n",
       "      <td>male</td>\n",
       "      <td>70.0</td>\n",
       "      <td>NaN</td>\n",
       "      <td>0.013814</td>\n",
       "      <td>0.019561</td>\n",
       "      <td>0.029064</td>\n",
       "      <td>0.017845</td>\n",
       "      <td>0.027359</td>\n",
       "      <td>0.034647</td>\n",
       "      <td>0.027215</td>\n",
       "      <td>0.009784</td>\n",
       "      <td>0.023492</td>\n",
       "      <td>0.124868</td>\n",
       "    </tr>\n",
       "    <tr>\n",
       "      <th>1</th>\n",
       "      <td>ISIC_0052349</td>\n",
       "      <td>IP_7782715</td>\n",
       "      <td>male</td>\n",
       "      <td>40.0</td>\n",
       "      <td>lower extremity</td>\n",
       "      <td>0.018579</td>\n",
       "      <td>0.028645</td>\n",
       "      <td>0.022274</td>\n",
       "      <td>0.020492</td>\n",
       "      <td>0.025799</td>\n",
       "      <td>0.029409</td>\n",
       "      <td>0.028357</td>\n",
       "      <td>0.013873</td>\n",
       "      <td>0.019664</td>\n",
       "      <td>0.124847</td>\n",
       "    </tr>\n",
       "    <tr>\n",
       "      <th>2</th>\n",
       "      <td>ISIC_0058510</td>\n",
       "      <td>IP_7960270</td>\n",
       "      <td>female</td>\n",
       "      <td>55.0</td>\n",
       "      <td>torso</td>\n",
       "      <td>0.019669</td>\n",
       "      <td>0.022637</td>\n",
       "      <td>0.024345</td>\n",
       "      <td>0.018751</td>\n",
       "      <td>0.025983</td>\n",
       "      <td>0.023827</td>\n",
       "      <td>0.016881</td>\n",
       "      <td>0.008209</td>\n",
       "      <td>0.016530</td>\n",
       "      <td>0.124847</td>\n",
       "    </tr>\n",
       "    <tr>\n",
       "      <th>3</th>\n",
       "      <td>ISIC_0073313</td>\n",
       "      <td>IP_6375035</td>\n",
       "      <td>female</td>\n",
       "      <td>50.0</td>\n",
       "      <td>torso</td>\n",
       "      <td>0.016925</td>\n",
       "      <td>0.021303</td>\n",
       "      <td>0.025974</td>\n",
       "      <td>0.019450</td>\n",
       "      <td>0.024942</td>\n",
       "      <td>0.024287</td>\n",
       "      <td>0.021679</td>\n",
       "      <td>0.006916</td>\n",
       "      <td>0.016539</td>\n",
       "      <td>0.124847</td>\n",
       "    </tr>\n",
       "    <tr>\n",
       "      <th>4</th>\n",
       "      <td>ISIC_0073502</td>\n",
       "      <td>IP_0589375</td>\n",
       "      <td>female</td>\n",
       "      <td>45.0</td>\n",
       "      <td>lower extremity</td>\n",
       "      <td>0.013817</td>\n",
       "      <td>0.018570</td>\n",
       "      <td>0.039574</td>\n",
       "      <td>0.026010</td>\n",
       "      <td>0.032569</td>\n",
       "      <td>0.031621</td>\n",
       "      <td>0.022839</td>\n",
       "      <td>0.013505</td>\n",
       "      <td>0.021570</td>\n",
       "      <td>0.135783</td>\n",
       "    </tr>\n",
       "  </tbody>\n",
       "</table>\n",
       "</div>"
      ],
      "text/plain": [
       "     image_name  patient_id     sex  age_approx anatom_site_general_challenge  \\\n",
       "0  ISIC_0052060  IP_3579794    male        70.0                           NaN   \n",
       "1  ISIC_0052349  IP_7782715    male        40.0               lower extremity   \n",
       "2  ISIC_0058510  IP_7960270  female        55.0                         torso   \n",
       "3  ISIC_0073313  IP_6375035  female        50.0                         torso   \n",
       "4  ISIC_0073502  IP_0589375  female        45.0               lower extremity   \n",
       "\n",
       "      pub_1     pub_2     pub_3     pub_4     pub_5     pub_6     pub_7  \\\n",
       "0  0.013814  0.019561  0.029064  0.017845  0.027359  0.034647  0.027215   \n",
       "1  0.018579  0.028645  0.022274  0.020492  0.025799  0.029409  0.028357   \n",
       "2  0.019669  0.022637  0.024345  0.018751  0.025983  0.023827  0.016881   \n",
       "3  0.016925  0.021303  0.025974  0.019450  0.024942  0.024287  0.021679   \n",
       "4  0.013817  0.018570  0.039574  0.026010  0.032569  0.031621  0.022839   \n",
       "\n",
       "      pub_8     pub_9    pub_10  \n",
       "0  0.009784  0.023492  0.124868  \n",
       "1  0.013873  0.019664  0.124847  \n",
       "2  0.008209  0.016530  0.124847  \n",
       "3  0.006916  0.016539  0.124847  \n",
       "4  0.013505  0.021570  0.135783  "
      ]
     },
     "execution_count": 3,
     "metadata": {},
     "output_type": "execute_result"
    }
   ],
   "source": [
    "# PUBLIC\n",
    "df_test = pd.read_csv(\"../input/test.csv\")\n",
    "\n",
    "pub_1 = pd.read_csv(\"../ensembles/stacking/public_1.csv\")\n",
    "pub_2 = pd.read_csv(\"../ensembles/stacking/public_2.csv\")\n",
    "pub_3 = pd.read_csv(\"../ensembles/stacking/public_3.csv\")\n",
    "pub_4 = pd.read_csv(\"../ensembles/stacking/public_4.csv\")\n",
    "pub_5 = pd.read_csv(\"../ensembles/stacking/public_5.csv\")\n",
    "pub_6 = pd.read_csv(\"../ensembles/stacking/public_6.csv\")\n",
    "pub_7 = pd.read_csv(\"../ensembles/stacking/public_7.csv\")\n",
    "pub_8 = pd.read_csv(\"../ensembles/stacking/public_8.csv\")\n",
    "pub_9 = pd.read_csv(\"../ensembles/stacking/public_9.csv\")\n",
    "pub_10 = pd.read_csv(\"../ensembles/stacking/public_10.csv\")\n",
    "\n",
    "df_test[\"pub_1\"] = pub_1.target\n",
    "df_test[\"pub_2\"] = pub_2.target\n",
    "df_test[\"pub_3\"] = pub_3.target\n",
    "df_test[\"pub_4\"] = pub_4.target\n",
    "df_test[\"pub_5\"] = pub_5.target\n",
    "df_test[\"pub_6\"] = pub_6.target\n",
    "df_test[\"pub_7\"] = pub_7.target\n",
    "df_test[\"pub_8\"] = pub_8.target\n",
    "df_test[\"pub_9\"] = pub_9.target\n",
    "df_test[\"pub_10\"] = pub_10.target\n",
    "\n",
    "print(df_test.shape)\n",
    "df_test.head()"
   ]
  },
  {
   "cell_type": "code",
   "execution_count": 4,
   "metadata": {
    "ExecuteTime": {
     "end_time": "2020-08-17T23:19:22.477377Z",
     "start_time": "2020-08-17T23:19:22.344362Z"
    }
   },
   "outputs": [
    {
     "data": {
      "text/plain": [
       "<matplotlib.axes._subplots.AxesSubplot at 0x7fbfe16ed9d0>"
      ]
     },
     "execution_count": 4,
     "metadata": {},
     "output_type": "execute_result"
    },
    {
     "data": {
      "image/png": "[encoded data removed]",
      "text/plain": [
       "<Figure size 432x288 with 1 Axes>"
      ]
     },
     "metadata": {
      "needs_background": "light"
     },
     "output_type": "display_data"
    }
   ],
   "source": [
    "pub_rank_mean = df_test[pub_cols].rank(pct=True).mean(axis=1).rank(pct=True).values\n",
    "sub_pub[\"target\"] = pub_rank_mean\n",
    "# sub_pub.to_csv(f\"../ensembles/pub_rank_mean.csv\", index=False)\n",
    "sub_pub.target.hist(bins=20)"
   ]
  },
  {
   "cell_type": "code",
   "execution_count": 5,
   "metadata": {
    "ExecuteTime": {
     "end_time": "2020-08-17T23:19:22.616783Z",
     "start_time": "2020-08-17T23:19:22.478296Z"
    }
   },
   "outputs": [
    {
     "data": {
      "image/png": "[encoded data removed]",
      "text/plain": [
       "<Figure size 432x288 with 1 Axes>"
      ]
     },
     "metadata": {
      "needs_background": "light"
     },
     "output_type": "display_data"
    }
   ],
   "source": [
    "sub_merge = pd.read_csv(\"../input/sample_submission.csv\")\n",
    "sub_lgb = pd.read_csv(\"../ensembles/ensemble_rank_mean.csv\")\n",
    "sub_public_ensemble = pd.read_csv(\"../ensembles/stacking/public_ensemble.csv\")\n",
    "\n",
    "sub_merge[\"target\"] = sub_lgb.target.rank(pct=True) * 0.8 + sub_pub[\n",
    "    \"target\"].rank(pct=True) * 0.1 + sub_public_ensemble[\"target\"].rank(pct=True) * 0.1\n",
    "sub_merge.target.hist(bins=20)\n",
    "\n",
    "sub_merge.to_csv(f\"../ensembles/merge_rank_mean.csv\", index=False)"
   ]
  },
  {
   "cell_type": "code",
   "execution_count": null,
   "metadata": {},
   "outputs": [],
   "source": []
  },
  {
   "cell_type": "code",
   "execution_count": null,
   "metadata": {},
   "outputs": [],
   "source": []
  },
  {
   "cell_type": "code",
   "execution_count": null,
   "metadata": {},
   "outputs": [],
   "source": []
  },
  {
   "cell_type": "code",
   "execution_count": null,
   "metadata": {},
   "outputs": [],
   "source": []
  },
  {
   "cell_type": "code",
   "execution_count": null,
   "metadata": {},
   "outputs": [],
   "source": []
  },
  {
   "cell_type": "code",
   "execution_count": null,
   "metadata": {},
   "outputs": [],
   "source": []
  }
 ],
 "metadata": {
  "kernelspec": {
   "display_name": "Python 3",
   "language": "python",
   "name": "python3"
  },
  "language_info": {
   "codemirror_mode": {
    "name": "ipython",
    "version": 3
   },
   "file_extension": ".py",
   "mimetype": "text/x-python",
   "name": "python",
   "nbconvert_exporter": "python",
   "pygments_lexer": "ipython3",
   "version": "3.7.5"
  },
  "toc": {
   "base_numbering": 1,
   "nav_menu": {},
   "number_sections": true,
   "sideBar": true,
   "skip_h1_title": false,
   "title_cell": "Table of Contents",
   "title_sidebar": "Contents",
   "toc_cell": false,
   "toc_position": {},
   "toc_section_display": true,
   "toc_window_display": false
  }
 },
 "nbformat": 4,
 "nbformat_minor": 2
}
