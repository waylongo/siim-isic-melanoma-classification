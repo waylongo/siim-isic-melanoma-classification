{
 "cells": [
  {
   "cell_type": "code",
   "execution_count": 1,
   "metadata": {
    "ExecuteTime": {
     "end_time": "2020-08-16T22:45:24.727106Z",
     "start_time": "2020-08-16T22:45:24.295246Z"
    }
   },
   "outputs": [],
   "source": [
    "import numpy as np\n",
    "import pandas as pd\n",
    "from matplotlib import pyplot as plt\n",
    "from sklearn.model_selection import GroupKFold\n",
    "from sklearn.metrics import roc_auc_score\n",
    "import warnings\n",
    "warnings.filterwarnings(\"ignore\")\n",
    "\n",
    "sub = pd.read_csv(\"../input/sample_submission.csv\")"
   ]
  },
  {
   "cell_type": "code",
   "execution_count": 2,
   "metadata": {
    "ExecuteTime": {
     "end_time": "2020-08-16T22:45:25.065243Z",
     "start_time": "2020-08-16T22:45:24.728342Z"
    }
   },
   "outputs": [
    {
     "name": "stdout",
     "output_type": "stream",
     "text": [
      "(32701, 19)\n"
     ]
    },
    {
     "data": {
      "text/html": [
       "<div>\n",
       "<style scoped>\n",
       "    .dataframe tbody tr th:only-of-type {\n",
       "        vertical-align: middle;\n",
       "    }\n",
       "\n",
       "    .dataframe tbody tr th {\n",
       "        vertical-align: top;\n",
       "    }\n",
       "\n",
       "    .dataframe thead th {\n",
       "        text-align: right;\n",
       "    }\n",
       "</style>\n",
       "<table border=\"1\" class=\"dataframe\">\n",
       "  <thead>\n",
       "    <tr style=\"text-align: right;\">\n",
       "      <th></th>\n",
       "      <th>image_name</th>\n",
       "      <th>patient_id</th>\n",
       "      <th>sex</th>\n",
       "      <th>age_approx</th>\n",
       "      <th>anatom_site_general_challenge</th>\n",
       "      <th>diagnosis</th>\n",
       "      <th>benign_malignant</th>\n",
       "      <th>target</th>\n",
       "      <th>kfold</th>\n",
       "      <th>oof_1</th>\n",
       "      <th>oof_2</th>\n",
       "      <th>oof_3</th>\n",
       "      <th>oof_4</th>\n",
       "      <th>oof_5</th>\n",
       "      <th>oof_6</th>\n",
       "      <th>oof_7</th>\n",
       "      <th>oof_8</th>\n",
       "      <th>oof_9</th>\n",
       "      <th>oof_10</th>\n",
       "    </tr>\n",
       "  </thead>\n",
       "  <tbody>\n",
       "    <tr>\n",
       "      <th>0</th>\n",
       "      <td>ISIC_2637011</td>\n",
       "      <td>IP_7279968</td>\n",
       "      <td>male</td>\n",
       "      <td>45.0</td>\n",
       "      <td>head/neck</td>\n",
       "      <td>unknown</td>\n",
       "      <td>benign</td>\n",
       "      <td>0</td>\n",
       "      <td>2</td>\n",
       "      <td>0.002765</td>\n",
       "      <td>0.002867</td>\n",
       "      <td>0.003854</td>\n",
       "      <td>0.008212</td>\n",
       "      <td>0.016964</td>\n",
       "      <td>0.002218</td>\n",
       "      <td>0.010693</td>\n",
       "      <td>0.001636</td>\n",
       "      <td>0.017113</td>\n",
       "      <td>0.000279</td>\n",
       "    </tr>\n",
       "    <tr>\n",
       "      <th>1</th>\n",
       "      <td>ISIC_0015719</td>\n",
       "      <td>IP_3075186</td>\n",
       "      <td>female</td>\n",
       "      <td>45.0</td>\n",
       "      <td>upper extremity</td>\n",
       "      <td>unknown</td>\n",
       "      <td>benign</td>\n",
       "      <td>0</td>\n",
       "      <td>0</td>\n",
       "      <td>0.000304</td>\n",
       "      <td>0.001448</td>\n",
       "      <td>0.001833</td>\n",
       "      <td>0.000656</td>\n",
       "      <td>0.001426</td>\n",
       "      <td>0.003143</td>\n",
       "      <td>0.007281</td>\n",
       "      <td>0.000202</td>\n",
       "      <td>0.000688</td>\n",
       "      <td>0.000070</td>\n",
       "    </tr>\n",
       "    <tr>\n",
       "      <th>2</th>\n",
       "      <td>ISIC_0052212</td>\n",
       "      <td>IP_2842074</td>\n",
       "      <td>female</td>\n",
       "      <td>50.0</td>\n",
       "      <td>lower extremity</td>\n",
       "      <td>nevus</td>\n",
       "      <td>benign</td>\n",
       "      <td>0</td>\n",
       "      <td>0</td>\n",
       "      <td>0.001522</td>\n",
       "      <td>0.001983</td>\n",
       "      <td>0.001896</td>\n",
       "      <td>0.002887</td>\n",
       "      <td>0.004799</td>\n",
       "      <td>0.001201</td>\n",
       "      <td>0.004050</td>\n",
       "      <td>0.002567</td>\n",
       "      <td>0.001912</td>\n",
       "      <td>0.004450</td>\n",
       "    </tr>\n",
       "    <tr>\n",
       "      <th>3</th>\n",
       "      <td>ISIC_0068279</td>\n",
       "      <td>IP_6890425</td>\n",
       "      <td>female</td>\n",
       "      <td>45.0</td>\n",
       "      <td>head/neck</td>\n",
       "      <td>unknown</td>\n",
       "      <td>benign</td>\n",
       "      <td>0</td>\n",
       "      <td>4</td>\n",
       "      <td>0.007267</td>\n",
       "      <td>0.010593</td>\n",
       "      <td>0.006571</td>\n",
       "      <td>0.004746</td>\n",
       "      <td>0.003798</td>\n",
       "      <td>0.015302</td>\n",
       "      <td>0.024395</td>\n",
       "      <td>0.000411</td>\n",
       "      <td>0.000110</td>\n",
       "      <td>0.000824</td>\n",
       "    </tr>\n",
       "    <tr>\n",
       "      <th>4</th>\n",
       "      <td>ISIC_0074268</td>\n",
       "      <td>IP_8723313</td>\n",
       "      <td>female</td>\n",
       "      <td>55.0</td>\n",
       "      <td>upper extremity</td>\n",
       "      <td>unknown</td>\n",
       "      <td>benign</td>\n",
       "      <td>0</td>\n",
       "      <td>4</td>\n",
       "      <td>0.000703</td>\n",
       "      <td>0.002203</td>\n",
       "      <td>0.003074</td>\n",
       "      <td>0.001615</td>\n",
       "      <td>0.001012</td>\n",
       "      <td>0.000033</td>\n",
       "      <td>0.002233</td>\n",
       "      <td>0.000116</td>\n",
       "      <td>0.000106</td>\n",
       "      <td>0.000020</td>\n",
       "    </tr>\n",
       "  </tbody>\n",
       "</table>\n",
       "</div>"
      ],
      "text/plain": [
       "     image_name  patient_id     sex  age_approx anatom_site_general_challenge  \\\n",
       "0  ISIC_2637011  IP_7279968    male        45.0                     head/neck   \n",
       "1  ISIC_0015719  IP_3075186  female        45.0               upper extremity   \n",
       "2  ISIC_0052212  IP_2842074  female        50.0               lower extremity   \n",
       "3  ISIC_0068279  IP_6890425  female        45.0                     head/neck   \n",
       "4  ISIC_0074268  IP_8723313  female        55.0               upper extremity   \n",
       "\n",
       "  diagnosis benign_malignant  target  kfold     oof_1     oof_2     oof_3  \\\n",
       "0   unknown           benign       0      2  0.002765  0.002867  0.003854   \n",
       "1   unknown           benign       0      0  0.000304  0.001448  0.001833   \n",
       "2     nevus           benign       0      0  0.001522  0.001983  0.001896   \n",
       "3   unknown           benign       0      4  0.007267  0.010593  0.006571   \n",
       "4   unknown           benign       0      4  0.000703  0.002203  0.003074   \n",
       "\n",
       "      oof_4     oof_5     oof_6     oof_7     oof_8     oof_9    oof_10  \n",
       "0  0.008212  0.016964  0.002218  0.010693  0.001636  0.017113  0.000279  \n",
       "1  0.000656  0.001426  0.003143  0.007281  0.000202  0.000688  0.000070  \n",
       "2  0.002887  0.004799  0.001201  0.004050  0.002567  0.001912  0.004450  \n",
       "3  0.004746  0.003798  0.015302  0.024395  0.000411  0.000110  0.000824  \n",
       "4  0.001615  0.001012  0.000033  0.002233  0.000116  0.000106  0.000020  "
      ]
     },
     "execution_count": 2,
     "metadata": {},
     "output_type": "execute_result"
    }
   ],
   "source": [
    "# OOF\n",
    "oof_1 = pd.read_csv(\"../ensembles/stacking/1_oof_imgsize_384_eff_b4.csv\")\n",
    "oof_2 = pd.read_csv(\"../ensembles/stacking/2_oof_imgsize_384_eff_b5.csv\")\n",
    "oof_3 = pd.read_csv(\"../ensembles/stacking/3_oof_imgsize_384_eff_b6.csv\")\n",
    "oof_4 = pd.read_csv(\"../ensembles/stacking/4_oof_imgsize_512_eff_b3.csv\")\n",
    "oof_5 = pd.read_csv(\"../ensembles/stacking/5_oof_imgsize_512_eff_b4.csv\")\n",
    "oof_6 = pd.read_csv(\"../ensembles/stacking/6_oof_imgsize_384_eff_b4.csv\")\n",
    "oof_7 = pd.read_csv(\"../ensembles/stacking/7_oof_imgsize_512_eff_b3.csv\")\n",
    "oof_8 = pd.read_csv(\"../ensembles/stacking/8_oof_imgsize_512_eff_b5.csv\")\n",
    "oof_9 = pd.read_csv(\"../ensembles/stacking/9_oof_imgsize_384_eff_b5.csv\")\n",
    "oof_10 = pd.read_csv(\"../ensembles/stacking/10_oof_imgsize_512_eff_b4.csv\")\n",
    "\n",
    "df_oof = oof_1.copy()\n",
    "df_oof = df_oof.rename(columns={'oof': 'oof_1'})\n",
    "df_oof[\"oof_2\"] = oof_2.oof\n",
    "df_oof[\"oof_3\"] = oof_3.oof\n",
    "df_oof[\"oof_4\"] = oof_4.oof\n",
    "df_oof[\"oof_5\"] = oof_5.oof\n",
    "df_oof[\"oof_6\"] = oof_6.oof\n",
    "df_oof[\"oof_7\"] = oof_7.oof\n",
    "df_oof[\"oof_8\"] = oof_8.oof\n",
    "df_oof[\"oof_9\"] = oof_9.oof\n",
    "df_oof[\"oof_10\"] = oof_10.oof\n",
    "\n",
    "print(df_oof.shape)\n",
    "df_oof.head()"
   ]
  },
  {
   "cell_type": "code",
   "execution_count": 3,
   "metadata": {
    "ExecuteTime": {
     "end_time": "2020-08-16T22:45:25.139975Z",
     "start_time": "2020-08-16T22:45:25.066344Z"
    }
   },
   "outputs": [
    {
     "name": "stdout",
     "output_type": "stream",
     "text": [
      "(10982, 15)\n"
     ]
    },
    {
     "data": {
      "text/html": [
       "<div>\n",
       "<style scoped>\n",
       "    .dataframe tbody tr th:only-of-type {\n",
       "        vertical-align: middle;\n",
       "    }\n",
       "\n",
       "    .dataframe tbody tr th {\n",
       "        vertical-align: top;\n",
       "    }\n",
       "\n",
       "    .dataframe thead th {\n",
       "        text-align: right;\n",
       "    }\n",
       "</style>\n",
       "<table border=\"1\" class=\"dataframe\">\n",
       "  <thead>\n",
       "    <tr style=\"text-align: right;\">\n",
       "      <th></th>\n",
       "      <th>image_name</th>\n",
       "      <th>patient_id</th>\n",
       "      <th>sex</th>\n",
       "      <th>age_approx</th>\n",
       "      <th>anatom_site_general_challenge</th>\n",
       "      <th>oof_1</th>\n",
       "      <th>oof_2</th>\n",
       "      <th>oof_3</th>\n",
       "      <th>oof_4</th>\n",
       "      <th>oof_5</th>\n",
       "      <th>oof_6</th>\n",
       "      <th>oof_7</th>\n",
       "      <th>oof_8</th>\n",
       "      <th>oof_9</th>\n",
       "      <th>oof_10</th>\n",
       "    </tr>\n",
       "  </thead>\n",
       "  <tbody>\n",
       "    <tr>\n",
       "      <th>0</th>\n",
       "      <td>ISIC_0052060</td>\n",
       "      <td>IP_3579794</td>\n",
       "      <td>male</td>\n",
       "      <td>70.0</td>\n",
       "      <td>NaN</td>\n",
       "      <td>0.028229</td>\n",
       "      <td>0.049150</td>\n",
       "      <td>0.090080</td>\n",
       "      <td>0.044257</td>\n",
       "      <td>0.073408</td>\n",
       "      <td>0.050904</td>\n",
       "      <td>0.098304</td>\n",
       "      <td>0.022515</td>\n",
       "      <td>0.015981</td>\n",
       "      <td>0.014081</td>\n",
       "    </tr>\n",
       "    <tr>\n",
       "      <th>1</th>\n",
       "      <td>ISIC_0052349</td>\n",
       "      <td>IP_7782715</td>\n",
       "      <td>male</td>\n",
       "      <td>40.0</td>\n",
       "      <td>lower extremity</td>\n",
       "      <td>0.014163</td>\n",
       "      <td>0.020357</td>\n",
       "      <td>0.034479</td>\n",
       "      <td>0.023930</td>\n",
       "      <td>0.024378</td>\n",
       "      <td>0.020494</td>\n",
       "      <td>0.038444</td>\n",
       "      <td>0.012172</td>\n",
       "      <td>0.006097</td>\n",
       "      <td>0.008275</td>\n",
       "    </tr>\n",
       "    <tr>\n",
       "      <th>2</th>\n",
       "      <td>ISIC_0058510</td>\n",
       "      <td>IP_7960270</td>\n",
       "      <td>female</td>\n",
       "      <td>55.0</td>\n",
       "      <td>torso</td>\n",
       "      <td>0.028054</td>\n",
       "      <td>0.029983</td>\n",
       "      <td>0.033252</td>\n",
       "      <td>0.035615</td>\n",
       "      <td>0.036982</td>\n",
       "      <td>0.016430</td>\n",
       "      <td>0.036894</td>\n",
       "      <td>0.024377</td>\n",
       "      <td>0.002477</td>\n",
       "      <td>0.007257</td>\n",
       "    </tr>\n",
       "    <tr>\n",
       "      <th>3</th>\n",
       "      <td>ISIC_0073313</td>\n",
       "      <td>IP_6375035</td>\n",
       "      <td>female</td>\n",
       "      <td>50.0</td>\n",
       "      <td>torso</td>\n",
       "      <td>0.025689</td>\n",
       "      <td>0.017140</td>\n",
       "      <td>0.041056</td>\n",
       "      <td>0.028502</td>\n",
       "      <td>0.027994</td>\n",
       "      <td>0.022804</td>\n",
       "      <td>0.044480</td>\n",
       "      <td>0.023433</td>\n",
       "      <td>0.008394</td>\n",
       "      <td>0.007832</td>\n",
       "    </tr>\n",
       "    <tr>\n",
       "      <th>4</th>\n",
       "      <td>ISIC_0073502</td>\n",
       "      <td>IP_0589375</td>\n",
       "      <td>female</td>\n",
       "      <td>45.0</td>\n",
       "      <td>lower extremity</td>\n",
       "      <td>0.116847</td>\n",
       "      <td>0.126173</td>\n",
       "      <td>0.210365</td>\n",
       "      <td>0.208926</td>\n",
       "      <td>0.241718</td>\n",
       "      <td>0.141202</td>\n",
       "      <td>0.225230</td>\n",
       "      <td>0.058101</td>\n",
       "      <td>0.027529</td>\n",
       "      <td>0.012346</td>\n",
       "    </tr>\n",
       "  </tbody>\n",
       "</table>\n",
       "</div>"
      ],
      "text/plain": [
       "     image_name  patient_id     sex  age_approx anatom_site_general_challenge  \\\n",
       "0  ISIC_0052060  IP_3579794    male        70.0                           NaN   \n",
       "1  ISIC_0052349  IP_7782715    male        40.0               lower extremity   \n",
       "2  ISIC_0058510  IP_7960270  female        55.0                         torso   \n",
       "3  ISIC_0073313  IP_6375035  female        50.0                         torso   \n",
       "4  ISIC_0073502  IP_0589375  female        45.0               lower extremity   \n",
       "\n",
       "      oof_1     oof_2     oof_3     oof_4     oof_5     oof_6     oof_7  \\\n",
       "0  0.028229  0.049150  0.090080  0.044257  0.073408  0.050904  0.098304   \n",
       "1  0.014163  0.020357  0.034479  0.023930  0.024378  0.020494  0.038444   \n",
       "2  0.028054  0.029983  0.033252  0.035615  0.036982  0.016430  0.036894   \n",
       "3  0.025689  0.017140  0.041056  0.028502  0.027994  0.022804  0.044480   \n",
       "4  0.116847  0.126173  0.210365  0.208926  0.241718  0.141202  0.225230   \n",
       "\n",
       "      oof_8     oof_9    oof_10  \n",
       "0  0.022515  0.015981  0.014081  \n",
       "1  0.012172  0.006097  0.008275  \n",
       "2  0.024377  0.002477  0.007257  \n",
       "3  0.023433  0.008394  0.007832  \n",
       "4  0.058101  0.027529  0.012346  "
      ]
     },
     "execution_count": 3,
     "metadata": {},
     "output_type": "execute_result"
    }
   ],
   "source": [
    "# PRED\n",
    "df_test = pd.read_csv(\"../input/test.csv\")\n",
    "\n",
    "pred_1 = pd.read_csv(\"../ensembles/stacking/1_pred_imgsize_384_eff_b4.csv\")\n",
    "pred_2 = pd.read_csv(\"../ensembles/stacking/2_pred_imgsize_384_eff_b5.csv\")\n",
    "pred_3 = pd.read_csv(\"../ensembles/stacking/3_pred_imgsize_384_eff_b6.csv\")\n",
    "pred_4 = pd.read_csv(\"../ensembles/stacking/4_pred_imgsize_512_eff_b3.csv\")\n",
    "pred_5 = pd.read_csv(\"../ensembles/stacking/5_pred_imgsize_512_eff_b4.csv\")\n",
    "pred_6 = pd.read_csv(\"../ensembles/stacking/6_pred_imgsize_384_eff_b4.csv\")\n",
    "pred_7 = pd.read_csv(\"../ensembles/stacking/7_pred_imgsize_512_eff_b3.csv\")\n",
    "pred_8 = pd.read_csv(\"../ensembles/stacking/8_pred_imgsize_512_eff_b5.csv\")\n",
    "pred_9 = pd.read_csv(\"../ensembles/stacking/9_pred_imgsize_384_eff_b5.csv\")\n",
    "pred_10 = pd.read_csv(\"../ensembles/stacking/10_pred_imgsize_512_eff_b4.csv\")\n",
    "\n",
    "df_test[\"oof_1\"] = pred_1.target\n",
    "df_test[\"oof_2\"] = pred_2.target\n",
    "df_test[\"oof_3\"] = pred_3.target\n",
    "df_test[\"oof_4\"] = pred_4.target\n",
    "df_test[\"oof_5\"] = pred_5.target\n",
    "df_test[\"oof_6\"] = pred_6.target\n",
    "df_test[\"oof_7\"] = pred_7.target\n",
    "df_test[\"oof_8\"] = pred_8.target\n",
    "df_test[\"oof_9\"] = pred_9.target\n",
    "df_test[\"oof_10\"] = pred_10.target\n",
    "\n",
    "print(df_test.shape)\n",
    "df_test.head()"
   ]
  },
  {
   "cell_type": "code",
   "execution_count": 4,
   "metadata": {
    "ExecuteTime": {
     "end_time": "2020-08-16T22:45:25.142871Z",
     "start_time": "2020-08-16T22:45:25.140840Z"
    }
   },
   "outputs": [],
   "source": [
    "gkf = GroupKFold(n_splits=5)\n",
    "oof_cols = [f\"oof_{col}\"for col in range(1, 11)]\n",
    "use_cols = [\"sex\", \"age_approx\", \"anatom_site_general_challenge\"] + oof_cols"
   ]
  },
  {
   "cell_type": "code",
   "execution_count": null,
   "metadata": {},
   "outputs": [],
   "source": []
  },
  {
   "cell_type": "markdown",
   "metadata": {},
   "source": [
    "### MEAN - LB 0.9506"
   ]
  },
  {
   "cell_type": "code",
   "execution_count": 5,
   "metadata": {
    "ExecuteTime": {
     "end_time": "2020-08-16T22:45:25.290024Z",
     "start_time": "2020-08-16T22:45:25.143677Z"
    }
   },
   "outputs": [
    {
     "name": "stdout",
     "output_type": "stream",
     "text": [
      "MEAN OOF SCORE IS 0.933\n"
     ]
    },
    {
     "data": {
      "text/plain": [
       "<matplotlib.axes._subplots.AxesSubplot at 0x7ff3292d0390>"
      ]
     },
     "execution_count": 5,
     "metadata": {},
     "output_type": "execute_result"
    },
    {
     "data": {
      "image/png": "[encoded data removed]",
      "text/plain": [
       "<Figure size 432x288 with 1 Axes>"
      ]
     },
     "metadata": {
      "needs_background": "light"
     },
     "output_type": "display_data"
    }
   ],
   "source": [
    "df_oof[\"oof_mean\"] = df_oof[oof_cols].mean(axis=1).values\n",
    "pred_mean = df_test[oof_cols].mean(axis=1).values\n",
    "\n",
    "MEAN_SCORE = roc_auc_score(df_oof[\"target\"], df_oof[\"oof_mean\"])\n",
    "print(f\"MEAN OOF SCORE IS {MEAN_SCORE:0.3F}\")\n",
    "\n",
    "sub[\"target\"] = pred_mean\n",
    "# sub.to_csv(f\"../ensembles/ensemble_mean.csv\", index=False)\n",
    "sub.target.hist(bins=20)"
   ]
  },
  {
   "cell_type": "markdown",
   "metadata": {},
   "source": [
    "### RANK MEAN - LB 0.9506"
   ]
  },
  {
   "cell_type": "code",
   "execution_count": 34,
   "metadata": {
    "ExecuteTime": {
     "end_time": "2020-08-16T22:48:43.878025Z",
     "start_time": "2020-08-16T22:48:43.733521Z"
    }
   },
   "outputs": [
    {
     "name": "stdout",
     "output_type": "stream",
     "text": [
      "RIDGE OOF SCORE IS 0.9326\n"
     ]
    },
    {
     "data": {
      "text/plain": [
       "<matplotlib.axes._subplots.AxesSubplot at 0x7ff3287b1410>"
      ]
     },
     "execution_count": 34,
     "metadata": {},
     "output_type": "execute_result"
    },
    {
     "data": {
      "image/png": "[encoded data removed]",
      "text/plain": [
       "<Figure size 432x288 with 1 Axes>"
      ]
     },
     "metadata": {
      "needs_background": "light"
     },
     "output_type": "display_data"
    }
   ],
   "source": [
    "df_oof[\"oof_rank_mean\"] = df_oof[oof_cols].rank(pct=True).mean(axis=1).values\n",
    "pred_rank_mean = df_test[oof_cols].rank(pct=True).mean(axis=1).values\n",
    "\n",
    "RANK_MEAN_SCORE = roc_auc_score(df_oof[\"target\"], df_oof[\"oof_rank_mean\"])\n",
    "print(f\"RIDGE OOF SCORE IS {RANK_MEAN_SCORE:0.4F}\")\n",
    "\n",
    "sub[\"target\"] = pred_rank_mean\n",
    "# sub.to_csv(f\"../ensembles/ensemble_rank_mean.csv\", index=False)\n",
    "sub.target.hist(bins=20)"
   ]
  },
  {
   "cell_type": "markdown",
   "metadata": {},
   "source": [
    "### STACKING - RIDGE - LB 0.9517"
   ]
  },
  {
   "cell_type": "code",
   "execution_count": 7,
   "metadata": {
    "ExecuteTime": {
     "end_time": "2020-08-16T22:45:25.623339Z",
     "start_time": "2020-08-16T22:45:25.434693Z"
    },
    "scrolled": true
   },
   "outputs": [
    {
     "name": "stdout",
     "output_type": "stream",
     "text": [
      "RIDGE OOF SCORE IS 0.932\n"
     ]
    },
    {
     "data": {
      "text/plain": [
       "<matplotlib.axes._subplots.AxesSubplot at 0x7ff328938190>"
      ]
     },
     "execution_count": 7,
     "metadata": {},
     "output_type": "execute_result"
    },
    {
     "data": {
      "image/png": "[encoded data removed]",
      "text/plain": [
       "<Figure size 432x288 with 1 Axes>"
      ]
     },
     "metadata": {
      "needs_background": "light"
     },
     "output_type": "display_data"
    }
   ],
   "source": [
    "from sklearn.linear_model import Ridge\n",
    "\n",
    "df_oof[\"ridge_oof\"] = 0\n",
    "sub[\"target\"] = 0\n",
    "\n",
    "for train_index, test_index in gkf.split(df_oof, df_oof[\"target\"] ,df_oof[\"kfold\"]):\n",
    "    X_train, X_valid = df_oof.loc[train_index][oof_cols], df_oof.loc[test_index][oof_cols]\n",
    "    y_train, y_valid = df_oof.loc[train_index][\"target\"], df_oof.loc[test_index][\"target\"]\n",
    "    \n",
    "    clf = Ridge(normalize=True)\n",
    "    clf.fit(X_train, y_train)\n",
    "    df_oof.loc[test_index, \"ridge_oof\"] = clf.predict(X_valid)\n",
    "    \n",
    "    sub[\"target\"] += clf.predict(df_test[oof_cols]) / 5\n",
    "    \n",
    "RIDGE_OOF_SCORE = roc_auc_score(df_oof[\"target\"], df_oof[\"ridge_oof\"])\n",
    "print(f\"RIDGE OOF SCORE IS {RIDGE_OOF_SCORE:0.3F}\")\n",
    "\n",
    "# sub.to_csv(f\"../ensembles/ensemble_ridge.csv\", index=False)\n",
    "sub.target.hist(bins=20)"
   ]
  },
  {
   "cell_type": "markdown",
   "metadata": {
    "ExecuteTime": {
     "end_time": "2020-08-14T22:59:25.750093Z",
     "start_time": "2020-08-14T22:59:25.656917Z"
    }
   },
   "source": [
    "### STACKING - LASSO - LB 0.9524"
   ]
  },
  {
   "cell_type": "code",
   "execution_count": 8,
   "metadata": {
    "ExecuteTime": {
     "end_time": "2020-08-16T22:45:25.846068Z",
     "start_time": "2020-08-16T22:45:25.624549Z"
    }
   },
   "outputs": [
    {
     "name": "stdout",
     "output_type": "stream",
     "text": [
      "LASSO OOF SCORE IS 0.923\n"
     ]
    },
    {
     "data": {
      "text/plain": [
       "<matplotlib.axes._subplots.AxesSubplot at 0x7ff328876590>"
      ]
     },
     "execution_count": 8,
     "metadata": {},
     "output_type": "execute_result"
    },
    {
     "data": {
      "image/png": "[encoded data removed]",
      "text/plain": [
       "<Figure size 432x288 with 1 Axes>"
      ]
     },
     "metadata": {
      "needs_background": "light"
     },
     "output_type": "display_data"
    }
   ],
   "source": [
    "from sklearn.linear_model import Lasso\n",
    "\n",
    "df_oof[\"lasso_oof\"] = 0\n",
    "sub[\"target\"] = 0\n",
    "\n",
    "for train_index, test_index in gkf.split(df_oof, df_oof[\"target\"] ,df_oof[\"kfold\"]):\n",
    "    X_train, X_valid = df_oof.loc[train_index][oof_cols], df_oof.loc[test_index][oof_cols]\n",
    "    y_train, y_valid = df_oof.loc[train_index][\"target\"], df_oof.loc[test_index][\"target\"]\n",
    "    \n",
    "    clf = Lasso(alpha=1e-8)\n",
    "    clf.fit(X_train, y_train)\n",
    "    df_oof.loc[test_index, \"lasso_oof\"] = clf.predict(X_valid)\n",
    "    \n",
    "    sub[\"target\"] += clf.predict(df_test[oof_cols]) / 5\n",
    "    \n",
    "RIDGE_OOF_SCORE = roc_auc_score(df_oof[\"target\"], df_oof[\"lasso_oof\"])\n",
    "print(f\"LASSO OOF SCORE IS {RIDGE_OOF_SCORE:0.3F}\")\n",
    "\n",
    "# sub.to_csv(f\"../ensembles/ensemble_lasso.csv\", index=False)\n",
    "sub.target.hist(bins=20)"
   ]
  },
  {
   "cell_type": "markdown",
   "metadata": {},
   "source": [
    "### STACKING - LIGHT GBM"
   ]
  },
  {
   "cell_type": "code",
   "execution_count": 9,
   "metadata": {
    "ExecuteTime": {
     "end_time": "2020-08-16T22:45:25.909871Z",
     "start_time": "2020-08-16T22:45:25.847123Z"
    }
   },
   "outputs": [],
   "source": [
    "# FEATURE ENGINEERING\n",
    "from sklearn.preprocessing import LabelEncoder\n",
    "\n",
    "for df in [df_oof, df_test]:\n",
    "    df[\"sex\"].fillna(\"unknown\", inplace=True)\n",
    "    df[\"age_approx\"].fillna(50, inplace=True)\n",
    "    df[\"anatom_site_general_challenge\"].fillna(\"unknown\", inplace=True)\n",
    "\n",
    "le = LabelEncoder()\n",
    "cat_cols = [\"sex\", \"anatom_site_general_challenge\"]\n",
    "\n",
    "for col in cat_cols:\n",
    "    le.fit(list(df_oof[col].astype(str).values) + list(df_test[col].astype(str).values))\n",
    "    df_oof[col] = le.transform(list(df_oof[col].astype(str).values))\n",
    "    df_test[col] = le.transform(list(df_test[col].astype(str).values))"
   ]
  },
  {
   "cell_type": "code",
   "execution_count": 10,
   "metadata": {
    "ExecuteTime": {
     "end_time": "2020-08-16T22:45:30.289621Z",
     "start_time": "2020-08-16T22:45:25.910717Z"
    }
   },
   "outputs": [
    {
     "name": "stdout",
     "output_type": "stream",
     "text": [
      "LIGHT GBM OOF SCORE IS 0.930\n"
     ]
    },
    {
     "data": {
      "text/plain": [
       "<matplotlib.axes._subplots.AxesSubplot at 0x7ff32882e790>"
      ]
     },
     "execution_count": 10,
     "metadata": {},
     "output_type": "execute_result"
    },
    {
     "data": {
      "image/png": "[encoded data removed]",
      "text/plain": [
       "<Figure size 432x288 with 1 Axes>"
      ]
     },
     "metadata": {
      "needs_background": "light"
     },
     "output_type": "display_data"
    }
   ],
   "source": [
    "import lightgbm as lgb\n",
    "\n",
    "param = {\n",
    "    \"objective\": \"binary\",\n",
    "    'metric': 'auc',\n",
    "    'num_leaves': 32,\n",
    "    'learning_rate': 0.001,\n",
    "    'n_estimators': 500,\n",
    "    'subsample': 0.15,\n",
    "    \"feature_fraction\": 0.15,\n",
    "    \"lambda_l1\": 0.5,\n",
    "    \"lambda_l2\": 1.,\n",
    "    \"max_depth\": 5,\n",
    "    'seed': 42,\n",
    "    'n_jobs': -1\n",
    "}\n",
    "\n",
    "\n",
    "df_oof[\"lgb_oof\"] = 0\n",
    "sub[\"target\"] = 0\n",
    "\n",
    "for train_index, test_index in gkf.split(df_oof, df_oof[\"target\"] ,df_oof[\"kfold\"]):\n",
    "    X_train, X_valid = df_oof.loc[train_index][use_cols], df_oof.loc[test_index][use_cols]\n",
    "    y_train, y_valid = df_oof.loc[train_index][\"target\"], df_oof.loc[test_index][\"target\"]\n",
    "    \n",
    "    model_lgb = lgb.LGBMRegressor(**param)\n",
    "\n",
    "    model_lgb.fit(X_train, y_train,\n",
    "                            eval_set=[(X_train, y_train), (X_valid, y_valid)],\n",
    "                            categorical_feature=cat_cols,\n",
    "                            early_stopping_rounds=1e6,\n",
    "                            verbose=0)\n",
    "    \n",
    "    df_oof.loc[test_index, \"lgb_oof\"] = model_lgb.predict(X_valid, num_iteration=model_lgb.best_iteration_)\n",
    "    \n",
    "    sub[\"target\"] += clf.predict(df_test[oof_cols]) / 5\n",
    "    \n",
    "\n",
    "LGB_OOF_SCORE = roc_auc_score(df_oof[\"target\"], df_oof[\"lgb_oof\"])\n",
    "print(f\"LIGHT GBM OOF SCORE IS {LGB_OOF_SCORE:0.3F}\")\n",
    "\n",
    "# sub.to_csv(f\"../ensembles/ensemble_lgb.csv\", index=False)\n",
    "sub.target.hist(bins=20)"
   ]
  },
  {
   "cell_type": "markdown",
   "metadata": {},
   "source": [
    "### POST PROCESSING"
   ]
  },
  {
   "cell_type": "code",
   "execution_count": 12,
   "metadata": {
    "ExecuteTime": {
     "end_time": "2020-08-16T22:45:30.319619Z",
     "start_time": "2020-08-16T22:45:30.316684Z"
    }
   },
   "outputs": [
    {
     "name": "stdout",
     "output_type": "stream",
     "text": [
      "--- ORIGINAL OOF SCORE IS 0.9326\n"
     ]
    }
   ],
   "source": [
    "LGB_OOF_SCORE_OG = RANK_MEAN_SCORE\n",
    "print(f\"--- ORIGINAL OOF SCORE IS {LGB_OOF_SCORE_OG:0.4F}\")"
   ]
  },
  {
   "cell_type": "code",
   "execution_count": 13,
   "metadata": {
    "ExecuteTime": {
     "end_time": "2020-08-16T22:45:30.329194Z",
     "start_time": "2020-08-16T22:45:30.321004Z"
    }
   },
   "outputs": [],
   "source": [
    "# print(f\"--- ORIGINAL OOF SCORE IS {LGB_OOF_SCORE_OG:0.5F}\")\n",
    "\n",
    "# for alpha in np.arange(0.95, 1.05, 0.01):\n",
    "#     for beta in np.arange(0.95, 1.05, 0.01):\n",
    "#         df_oof[\"scale_oof\"] = df_oof[\"oof_rank_mean\"]\n",
    "#         df_oof.loc[df_oof.sex == 0, \"scale_oof\"] *= alpha\n",
    "#         for gamma in range(7):\n",
    "#             df_oof.loc[df_oof.anatom_site_general_challenge == gamma, \"scale_oof\"] *= beta\n",
    "#             for eps in range(7):\n",
    "#                 df_oof.loc[df_oof.anatom_site_general_challenge == eps, \"scale_oof\"] *= beta\n",
    "        \n",
    "#         LGB_OOF_SCORE = roc_auc_score(df_oof[\"target\"], df_oof[\"scale_oof\"])\n",
    "#         if LGB_OOF_SCORE > LGB_OOF_SCORE_OG:\n",
    "#             print(f\"alpha={alpha:0.3F}, beta={beta:0.3F}, gamma={gamma:0.3F} | LIGHT GBM OOF SCORE IS {LGB_OOF_SCORE:0.5F}\")"
   ]
  },
  {
   "cell_type": "code",
   "execution_count": null,
   "metadata": {
    "ExecuteTime": {
     "end_time": "2020-08-16T22:43:25.743355Z",
     "start_time": "2020-08-16T22:43:25.736549Z"
    }
   },
   "outputs": [],
   "source": []
  }
 ],
 "metadata": {
  "kernelspec": {
   "display_name": "Python 3",
   "language": "python",
   "name": "python3"
  },
  "language_info": {
   "codemirror_mode": {
    "name": "ipython",
    "version": 3
   },
   "file_extension": ".py",
   "mimetype": "text/x-python",
   "name": "python",
   "nbconvert_exporter": "python",
   "pygments_lexer": "ipython3",
   "version": "3.7.5"
  },
  "toc": {
   "base_numbering": 1,
   "nav_menu": {},
   "number_sections": true,
   "sideBar": true,
   "skip_h1_title": false,
   "title_cell": "Table of Contents",
   "title_sidebar": "Contents",
   "toc_cell": false,
   "toc_position": {
    "height": "calc(100% - 180px)",
    "left": "10px",
    "top": "150px",
    "width": "264px"
   },
   "toc_section_display": true,
   "toc_window_display": true
  }
 },
 "nbformat": 4,
 "nbformat_minor": 2
}
